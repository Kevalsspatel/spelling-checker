{
  "nbformat": 4,
  "nbformat_minor": 0,
  "metadata": {
    "colab": {
      "name": "Untitled1.ipynb",
      "provenance": [],
      "authorship_tag": "ABX9TyNJsaXn1hkPTpxVaGbV7sG/"
    },
    "kernelspec": {
      "name": "python3",
      "display_name": "Python 3"
    }
  },
  "cells": [
    {
      "cell_type": "code",
      "metadata": {
        "id": "KfnzQelAg8aY",
        "colab_type": "code",
        "colab": {}
      },
      "source": [
        "from textblob import TextBlob"
      ],
      "execution_count": 12,
      "outputs": []
    },
    {
      "cell_type": "code",
      "metadata": {
        "id": "r7snv2JnhGHf",
        "colab_type": "code",
        "colab": {}
      },
      "source": [
        "#for only one word\n",
        "a = 'cmputer'\n",
        "b = TextBlob(a)\n",
        "print(b.correct())"
      ],
      "execution_count": null,
      "outputs": []
    },
    {
      "cell_type": "code",
      "metadata": {
        "id": "h1RRq0dGhtLV",
        "colab_type": "code",
        "colab": {}
      },
      "source": [
        "#for multiple words\n",
        "my_list = ['frst','scoend']\n",
        "correct_list = []\n",
        "for i in my_list:\n",
        "  correct_list.append(TextBlob(i))\n",
        "  \n",
        "for i in correct_list:\n",
        "  print(i.correct())\n"
      ],
      "execution_count": null,
      "outputs": []
    }
  ]
}